{
 "cells": [
  {
   "cell_type": "code",
   "execution_count": 1,
   "metadata": {},
   "outputs": [],
   "source": [
    "class ComputationalGraph(object):\n",
    "    def forward(inputs):\n",
    "        # 1. [pass inputs to input gates...]\n",
    "        # 2. forward the comutational graph:\n",
    "        for gate in self.graph.nodes_topologically_sorted():\n",
    "            gate.forward()\n",
    "        return loss # the final gate in the graph outputs the loss\n",
    "    def backward():\n",
    "        for gate in reversed(self.graph.nodes_topologically_sorted()):\n",
    "            gate.backward() # little piece of backprop (chain rule applied)\n",
    "        return inputs_gradients"
   ]
  },
  {
   "cell_type": "code",
   "execution_count": null,
   "metadata": {},
   "outputs": [],
   "source": [
    "class MultiplyGate(object):\n",
    "    def forward(x,y):\n",
    "        z = x*y\n",
    "        return z\n",
    "    def backward(dz):\n",
    "        # dx = ... # todo\n",
    "        # dy = ... # todo\n",
    "        return [dx, dy]"
   ]
  },
  {
   "cell_type": "code",
   "execution_count": null,
   "metadata": {},
   "outputs": [],
   "source": [
    "class MultiplyGate(object):\n",
    "    def forward(x,y):\n",
    "        z = x*y\n",
    "        self.x = x # must keep these around\n",
    "        self.y = y \n",
    "        return z\n",
    "    def backward(dz):\n",
    "        dx = self.y * dz # [dz/dx * dL/dz]\n",
    "        dy = self.x * dz # [dz/dy * dL/dz]\n",
    "        return [dx, dy]"
   ]
  }
 ],
 "metadata": {
  "kernelspec": {
   "display_name": "Python 3",
   "language": "python",
   "name": "python3"
  },
  "language_info": {
   "codemirror_mode": {
    "name": "ipython",
    "version": 3
   },
   "file_extension": ".py",
   "mimetype": "text/x-python",
   "name": "python",
   "nbconvert_exporter": "python",
   "pygments_lexer": "ipython3",
   "version": "3.8.3"
  }
 },
 "nbformat": 4,
 "nbformat_minor": 4
}
